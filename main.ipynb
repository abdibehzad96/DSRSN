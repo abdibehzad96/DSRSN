{
 "cells": [
  {
   "cell_type": "code",
   "execution_count": 2,
   "metadata": {},
   "outputs": [
    {
     "name": "stdout",
     "output_type": "stream",
     "text": [
      "/home/abdikhab/comp/DSRN\n"
     ]
    }
   ],
   "source": [
    "#from util import *\n",
    "#from DSRN import *\n",
    "import torch\n",
    "import sys\n",
    "import os\n",
    "cwd = os.getcwd()\n",
    "print(cwd)\n",
    "outputs = torch.load(os.path.join(os.getcwd(), 'model',\"output.pth\"))"
   ]
  },
  {
   "cell_type": "code",
   "execution_count": 8,
   "metadata": {},
   "outputs": [
    {
     "data": {
      "text/plain": [
       "tensor([12., 12., 12., 12., 12.,  0., 12., 12., 12., 12.], device='cuda:0',\n",
       "       grad_fn=<SumBackward1>)"
      ]
     },
     "execution_count": 8,
     "metadata": {},
     "output_type": "execute_result"
    }
   ],
   "source": [
    "outputs[100,:,:].sum(0)"
   ]
  },
  {
   "cell_type": "markdown",
   "metadata": {},
   "source": [
    "Data Loading and Preperation"
   ]
  },
  {
   "cell_type": "code",
   "execution_count": 2,
   "metadata": {},
   "outputs": [
    {
     "name": "stdout",
     "output_type": "stream",
     "text": [
      "Loading file: Vib_data.csv\n",
      "Data prepared with max and min of: tensor(11.6740) tensor(-10.0919)\n",
      "Train size: 2414 Test size: 426\n"
     ]
    }
   ],
   "source": [
    "csvpath = R\"Vib_data.csv\"\n",
    "df, datalen= loadcsv(csvpath)\n",
    "dataset = FaultData()\n",
    "dataset.prepare(df, datalen, ignore = [10,11,12])\n",
    "train, test = dataset.split(128,0.85)"
   ]
  },
  {
   "cell_type": "code",
   "execution_count": 7,
   "metadata": {},
   "outputs": [
    {
     "data": {
      "text/plain": [
       "tensor(0)"
      ]
     },
     "execution_count": 7,
     "metadata": {},
     "output_type": "execute_result"
    }
   ],
   "source": []
  },
  {
   "cell_type": "code",
   "execution_count": 4,
   "metadata": {},
   "outputs": [
    {
     "name": "stdout",
     "output_type": "stream",
     "text": [
      "cuda is available\n"
     ]
    }
   ],
   "source": [
    "# Create the model\n",
    "imsize = 49\n",
    "Loadmodel = False\n",
    "device = torch.device(\"cuda\" if torch.cuda.is_available() else \"cpu\")\n",
    "model = DSRN(nb_blocks=64, in_ch=1, out_ch=16, imsize= imsize, device=device).to(device)\n",
    "# Loss and optimizer\n",
    "criterion = nn.CrossEntropyLoss()\n",
    "optimizer = optim.Adam(model.parameters(), lr=1, betas=(0.9, 0.999))\n",
    "lr_scheduler = torch.optim.lr_scheduler.StepLR(optimizer, step_size=10, gamma=0.1) # decay LR by a factor of 0.1 every 10 epochs\n",
    "if Loadmodel == True:\n",
    "    model.load_state_dict(torch.load('model.pth'))\n",
    "    print('model loaded')\n",
    "# check if cuda is available\n",
    "if torch.cuda.is_available():\n",
    "    model = model.to(device)\n",
    "    criterion = criterion.to(device)\n",
    "    print(\"cuda is available\")\n",
    "\n"
   ]
  },
  {
   "cell_type": "code",
   "execution_count": null,
   "metadata": {},
   "outputs": [],
   "source": [
    "# Create the model\n",
    "epochs = 150\n",
    "loss_ep = []\n",
    "prev_loss = 10000\n",
    "# Train the model\n",
    "for epoch in range(epochs):\n",
    "    train_loss = 0.0\n",
    "    for inputs, labels in train:\n",
    "        model.train()\n",
    "        # forward + backward + optimize\n",
    "        inputs = dataset.str2image(inputs,imsize, imsize)\n",
    "        inputs = inputs.unsqueeze(1).to(device) #add channel dim\n",
    "        print(inputs.shape)\n",
    "        outputs = model(inputs)\n",
    "        loss = criterion(outputs.sum(1), labels.to(device))\n",
    "        # zero the parameter gradients\n",
    "        optimizer.zero_grad()\n",
    "        loss.backward()\n",
    "        optimizer.step()\n",
    "        # print statistics\n",
    "        train_loss += loss.item()\n",
    "    loss_ep.append(train_loss / len(train))\n",
    "    lr_scheduler.step() #decay learning rate\n",
    "    print('epoch: %d loss: %.3f' % (epoch + 1, train_loss / len(train)))\n",
    "    if prev_loss > train_loss:\n",
    "        torch.save(model.state_dict(), 'model.pth')\n",
    "        print('checkpoint saved')\n",
    "        prev_loss = train_loss"
   ]
  },
  {
   "cell_type": "code",
   "execution_count": null,
   "metadata": {},
   "outputs": [],
   "source": [
    "import matplotlib.pyplot as plt\n",
    "def str2image(x, H, W):\n",
    "    # zero padding if the lengh is not enough\n",
    "    if x.size(1) < H*W:\n",
    "        x = torch.cat((x, torch.zeros(x.size(0), H*W-x.size(1))), dim=1)\n",
    "        \n",
    "    if x.size(1) >= H*W:\n",
    "        x = x[:,:H*W]\n",
    "    x = x.reshape(x.size(0), H, W)\n",
    "    x = 255*(x +10)//(11 + 10)\n",
    "\n",
    "    return x\n",
    "d =0\n",
    "for data , label in train:\n",
    "    data = str2image(data, 48, 48)\n",
    "    for i in range(len(label)):\n",
    "        if label[i] == 5:\n",
    "            plt.imshow(data[i], cmap='gray')\n",
    "            plt.show()\n",
    "            d = 1\n",
    "            break\n",
    "\n",
    "plt.show()"
   ]
  },
  {
   "cell_type": "code",
   "execution_count": 3,
   "metadata": {},
   "outputs": [
    {
     "ename": "NameError",
     "evalue": "name 'model' is not defined",
     "output_type": "error",
     "traceback": [
      "\u001b[0;31m---------------------------------------------------------------------------\u001b[0m",
      "\u001b[0;31mNameError\u001b[0m                                 Traceback (most recent call last)",
      "Cell \u001b[0;32mIn[3], line 11\u001b[0m\n\u001b[1;32m      8\u001b[0m \u001b[38;5;66;03m#model = DSRN(nb_blocks=64, in_ch=1, out_ch=8, imsize= imsize, device=device).to(device)\u001b[39;00m\n\u001b[1;32m      9\u001b[0m \u001b[38;5;66;03m# Loss and optimizer\u001b[39;00m\n\u001b[1;32m     10\u001b[0m criterion \u001b[38;5;241m=\u001b[39m nn\u001b[38;5;241m.\u001b[39mCrossEntropyLoss()\n\u001b[0;32m---> 11\u001b[0m optimizer \u001b[38;5;241m=\u001b[39m optim\u001b[38;5;241m.\u001b[39mAdam(\u001b[43mmodel\u001b[49m\u001b[38;5;241m.\u001b[39mparameters(), lr\u001b[38;5;241m=\u001b[39m\u001b[38;5;241m0.05\u001b[39m, betas\u001b[38;5;241m=\u001b[39m(\u001b[38;5;241m0.9\u001b[39m, \u001b[38;5;241m0.999\u001b[39m))\n\u001b[1;32m     12\u001b[0m model\u001b[38;5;241m.\u001b[39mload_state_dict(torch\u001b[38;5;241m.\u001b[39mload(\u001b[38;5;124m'\u001b[39m\u001b[38;5;124mmodel.pth\u001b[39m\u001b[38;5;124m'\u001b[39m))\n\u001b[1;32m     14\u001b[0m test_losses \u001b[38;5;241m=\u001b[39m []\n",
      "\u001b[0;31mNameError\u001b[0m: name 'model' is not defined"
     ]
    }
   ],
   "source": [
    "# test the model\n",
    "import torch\n",
    "import torch.nn as nn\n",
    "import torch.optim as optim\n",
    "import snntorch as snn\n",
    "#load the model from the checkpoint\n",
    "imsize = 64\n",
    "model = DSRN(nb_blocks=64, in_ch=1, out_ch=8, imsize= imsize, device=device).to(device)\n",
    "# Loss and optimizer\n",
    "criterion = nn.CrossEntropyLoss()\n",
    "optimizer = optim.Adam(model.parameters(), lr=0.05, betas=(0.9, 0.999))\n",
    "model.load_state_dict(torch.load('model.pth'))\n",
    "\n",
    "test_losses = []\n",
    "pred_results = torch.empty(0, device = device)\n",
    "true_labels = torch.empty(0, device = device)\n",
    "with torch.no_grad():\n",
    "    model.eval()\n",
    "    for x, y in test:\n",
    "        x = dataset.str2image(x, imsize, imsize)\n",
    "        x = x.unsqueeze(1).to(device)\n",
    "        outputs = model(x)\n",
    "        _, predicted = torch.max(outputs.sum(1), 1)\n",
    "        pred_results= torch.cat((pred_results,predicted), dim = 0)\n",
    "        true_labels = torch.cat((true_labels, y.to(device)), dim = 0)\n",
    "        tests_loss = criterion(outputs.sum(1), y.to(device))\n",
    "        test_losses.append(tests_loss.item())\n",
    "\n"
   ]
  },
  {
   "cell_type": "code",
   "execution_count": 56,
   "metadata": {},
   "outputs": [
    {
     "data": {
      "image/png": "[encoded data removed]",
      "text/plain": [
       "<Figure size 640x480 with 2 Axes>"
      ]
     },
     "metadata": {},
     "output_type": "display_data"
    },
    {
     "name": "stdout",
     "output_type": "stream",
     "text": [
      "Accuracy:  29.42528735632184 %\n"
     ]
    }
   ],
   "source": [
    "# confusion matrix\n",
    "from sklearn.metrics import confusion_matrix, accuracy_score\n",
    "import seaborn as sns\n",
    "import matplotlib.pyplot as plt\n",
    "import numpy as np\n",
    "\n",
    "true_labels = true_labels.cpu()\n",
    "pred_results = pred_results.cpu()\n",
    "cm = confusion_matrix(true_labels, pred_results)\n",
    "# Plot the confusion matrix\n",
    "classes = np.unique(true_labels)\n",
    "sns.heatmap(cm, annot=True, fmt='d', cmap='Blues', xticklabels=classes, yticklabels=classes)\n",
    "plt.xlabel('Predicted')\n",
    "plt.ylabel('True')\n",
    "plt.title('Confusion Matrix')\n",
    "plt.show()\n",
    "print('Accuracy: ', accuracy_score(true_labels, pred_results)*100, '%')"
   ]
  },
  {
   "cell_type": "code",
   "execution_count": null,
   "metadata": {},
   "outputs": [],
   "source": [
    "import torch\n",
    "import torch.nn as nn\n",
    "import torch.optim as optim\n",
    "import snntorch as snn\n",
    "\n",
    "class DSRN(nn.Module):\n",
    "    def __init__(self, nb_blocks, in_ch, out_ch,imsize,device, strides=1, kernelsize=3, padding=1):\n",
    "        super(DSRN, self).__init__()\n",
    "        self.nb_blocks = nb_blocks\n",
    "        self.out_ch = out_ch\n",
    "        self.kernel_size = kernelsize\n",
    "        self.padding = padding\n",
    "        self.stride = strides\n",
    "        self.in_ch = in_ch\n",
    "        self.imsize = imsize\n",
    "        self.betta1 = 0.25 # torch.rand(self.out_ch, device= device)\n",
    "        self.betta2 = 0.25 #torch.rand(self.out_ch, device= device)\n",
    "        self.device = device\n",
    "        self.out_s = (self.imsize - self.kernel_size + 2*self.padding)//self.stride + 1\n",
    "        self.class_size = 10\n",
    "        self.Conv2d1 = nn.Conv2d(self.in_ch, self.out_ch, self.kernel_size, stride= self.stride, padding=1)\n",
    "        self.SRBU1 = SRU(self.nb_blocks, self.out_ch, self.out_ch, self.imsize, self.device)\n",
    "        self.maxpool1 = nn.MaxPool2d(2)\n",
    "        self.maxpool1_s = (self.imsize - 2)//2 + 1\n",
    "\n",
    "        self.SRBU2 = SRU(self.nb_blocks, self.out_ch, self.out_ch, self.maxpool1_s, self.device)\n",
    "        self.maxpool2 = nn.MaxPool2d(2)\n",
    "        self.maxpool2_s = (self.imsize//2 - 2)//2 + 1\n",
    "\n",
    "        self.SRBU3 = SRU(self.nb_blocks, self.out_ch, self.out_ch, self.maxpool2_s, self.device)\n",
    "        self.maxpool3 = nn.MaxPool2d(2)\n",
    "        self.maxpool3_s = (self.imsize//4 - 2)//2 + 1\n",
    "        self.flatten = nn.Flatten(1)\n",
    "        self.BN1 = nn.BatchNorm1d(self.maxpool3_s**2*self.out_ch)\n",
    "        self.IF1 = snn.Leaky(beta = self.betta1, learn_threshold= True, learn_beta=False)    #LIF(self.out_ch)\n",
    "        self.FC1 = nn.Linear(self.maxpool3_s**2*self.out_ch, self.maxpool3_s*self.out_ch)\n",
    "        self.IF2 = snn.Leaky(beta= self.betta2, learn_threshold= True)      #LIF(self.out_ch)\n",
    "        #self.FC2 = nn.Linear(self.out_s*self.nb_blocks**2, self.class_size)\n",
    "        #self.softmax = nn.Softmax(dim =1)\n",
    "    def forward(self, x):\n",
    "\n",
    "        out = torch.empty(x.shape[0], 0, device= self.device)\n",
    "        mem1= self.IF1.init_leaky()\n",
    "        mem2 = self.IF2.init_leaky()\n",
    "        for step in range(self.nb_blocks):\n",
    "            next_l = self.Conv2d1(x)\n",
    "            next_l = self.SRBU1(next_l)\n",
    "            next_l = self.maxpool1(next_l)\n",
    "            next_l = self.SRBU2(next_l)\n",
    "            next_l = self.maxpool2(next_l)\n",
    "            next_l = self.SRBU3(next_l)\n",
    "            next_l = self.maxpool3(next_l)\n",
    "            \n",
    "            next_l = self.flatten(next_l)\n",
    "            next_l = self.BN1(next_l)\n",
    "            next_l, mem1 = self.IF1(next_l, mem1)\n",
    "            next_l = self.FC1(next_l)\n",
    "            next_l, mem2 = self.IF2(next_l, mem2)\n",
    "            out = torch.cat((out, next_l), 1)\n",
    "        return out\n",
    "    #convert the residual shrinkage block to pytorch\n",
    "class SoftThresholdLayer(nn.Module):\n",
    "    def __init__(self, threshold_init=1.0):\n",
    "        super(SoftThresholdLayer, self).__init__()\n",
    "        self.threshold = nn.Parameter(torch.tensor(threshold_init))\n",
    "    def forward(self, x, thres):\n",
    "        return torch.sign(x) * torch.relu(torch.abs(x) - thres)\n",
    "\n",
    "class SRU(nn.Module):\n",
    "    def __init__(self, nb_blocks,in_ch, out_ch, imsize, device, kernel_size = 3, stride=1, padding=1):\n",
    "        super(SRU, self).__init__()\n",
    "        self.nb_blocks = nb_blocks\n",
    "        self.out_ch = out_ch\n",
    "        self.kernel_size = kernel_size\n",
    "        self.stride = stride\n",
    "        self.sigma = 4\n",
    "        self.in_ch = in_ch\n",
    "        self.padding = padding\n",
    "        self.betta1 = 0.25 #torch.rand(self.out_ch)\n",
    "        self.betta2 = 0.25 #torch.rand(self.out_ch)\n",
    "        self.th = 0.1\n",
    "        self.imsize = imsize\n",
    "        self.device = device\n",
    "\n",
    "        self.conv1out_s = self.convcalc(self.imsize, self.kernel_size,self.padding , self.stride)\n",
    "        self.conv2out_s = self.convcalc(self.conv1out_s, self.kernel_size,self.padding , self.stride)\n",
    "        self.avgpool_s = self.convcalc(self.conv2out_s, self.imsize//4, 0, self.imsize//4)\n",
    "        \n",
    "        self.BN1 = nn.BatchNorm2d(self.out_ch)\n",
    "        self.IF1 = snn.Leaky(beta = self.betta1, learn_threshold= False)    #LIF(self.out_ch)\n",
    "        self.Conv2d1 = nn.Conv2d(self.in_ch, self.out_ch, self.kernel_size, stride= self.stride, padding=1) # it should output a flatten tensor\n",
    "        \n",
    "        self.BN2 = nn.BatchNorm2d(self.out_ch)\n",
    "        self.IF2 = snn.Leaky(beta= self.betta2, learn_threshold= False)      #LIF(self.out_ch)\n",
    "        self.Conv2d2 = nn.Conv2d(self.out_ch, self.out_ch, self.kernel_size, stride=self.stride, padding=1)\n",
    "        \n",
    "        \n",
    "        self.AvgPool2d = nn.AvgPool2d(kernel_size= (self.imsize, self.imsize))\n",
    "        #self.flatten = nn.Flatten(2)\n",
    "        self.FC1 = nn.Linear(1, 10)\n",
    "        self.FC2 = nn.Linear(10, 1)\n",
    "        self.sigmoid = nn.Sigmoid()\n",
    "        self.soft_threshold = SoftThresholdLayer(threshold_init=1.0)\n",
    "\n",
    "    def forward(self, x):\n",
    "        mem1= self.IF1.init_leaky()\n",
    "        mem2 = self.IF2.init_leaky()\n",
    "        #mem_out = []\n",
    "        residual = x\n",
    "        #for step in range(self.nb_blocks):\n",
    "        \n",
    "        residual = self.BN1(residual)\n",
    "        residual, _ = self.IF1(residual, mem1)\n",
    "        residual = self.Conv2d1(residual)\n",
    "\n",
    "        \n",
    "        residual = self.BN2(residual) # batch normalization\n",
    "        residual, _ = self.IF2(residual, mem2) # leaky integrate and fire\n",
    "        residual = self.Conv2d2(residual) # convolution\n",
    "\n",
    "        #  Squeeze and Excitation layer\n",
    "        scales = self.AvgPool2d(residual)\n",
    "        #scales = self.flatten(scales)\n",
    "        feedback = self.FC1(scales)\n",
    "        feedback = self.sigmoid(self.FC2(feedback))\n",
    "        #multiply scales with feedback\n",
    "        thres = torch.multiply(scales, feedback)\n",
    "        #soft thresholding\n",
    "        out = self.soft_threshold(residual, thres)\n",
    "\n",
    "        out = torch.add(out , x) # sum layer\n",
    "        return out\n",
    "    \n",
    "    def convcalc(self, inpt, krnl,padding, stride):\n",
    "        return (inpt - krnl + 2*padding)//stride + 1\n",
    "    \n"
   ]
  }
 ],
 "metadata": {
  "kernelspec": {
   "display_name": "gs3",
   "language": "python",
   "name": "python3"
  },
  "language_info": {
   "codemirror_mode": {
    "name": "ipython",
    "version": 3
   },
   "file_extension": ".py",
   "mimetype": "text/x-python",
   "name": "python",
   "nbconvert_exporter": "python",
   "pygments_lexer": "ipython3",
   "version": "3.12.0"
  }
 },
 "nbformat": 4,
 "nbformat_minor": 2
}
